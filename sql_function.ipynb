{
 "cells": [
  {
   "cell_type": "markdown",
   "metadata": {},
   "source": [
    "> groups.csv - файл с информацией о принадлежности пользователя к контрольной или экспериментальной группе (А – контроль, B – целевая группа) "
   ]
  },
  {
   "cell_type": "markdown",
   "metadata": {},
   "source": [
    "https://disk.yandex.ru"
   ]
  },
  {
   "cell_type": "markdown",
   "metadata": {},
   "source": [
    "> groups_add.csv - дополнительный файл с пользователями, который вам прислали спустя 2 дня после передачи данных"
   ]
  },
  {
   "cell_type": "markdown",
   "metadata": {},
   "source": [
    "https://disk.yandex.ru"
   ]
  },
  {
   "cell_type": "markdown",
   "metadata": {},
   "source": [
    "> active_studs.csv - файл с информацией о пользователях, которые зашли на платформу в дни проведения эксперимента. "
   ]
  },
  {
   "cell_type": "markdown",
   "metadata": {},
   "source": [
    "https://disk.yandex.ru"
   ]
  },
  {
   "cell_type": "markdown",
   "metadata": {},
   "source": [
    "> checks.csv - файл с информацией об оплатах пользователей в дни проведения эксперимента. "
   ]
  },
  {
   "cell_type": "markdown",
   "metadata": {},
   "source": [
    "https://disk.yandex.ru"
   ]
  },
  {
   "cell_type": "code",
   "execution_count": 1,
   "metadata": {},
   "outputs": [],
   "source": [
    "import pandas as pd\n",
    "import numpy as np\n",
    "import seaborn as sns\n",
    "import scipy.stats as stats\n",
    "import matplotlib.pyplot as plt\n",
    "import requests\n",
    "from urllib.parse import urlencode\n",
    "import json"
   ]
  },
  {
   "cell_type": "code",
   "execution_count": 2,
   "metadata": {},
   "outputs": [],
   "source": [
    "public_key = 'https://disk.yandex.ru/d/5Kxrz02m3IBUwQ'"
   ]
  },
  {
   "cell_type": "code",
   "execution_count": 3,
   "metadata": {},
   "outputs": [],
   "source": [
    "def add_data(public_key):\n",
    "    # 1.Создадим датафрейм на основе информации доступной по ссылке\n",
    "    base_url='https://cloud-api.yandex.net/v1/disk/public/resources/download?'\n",
    "    # 2. Реализуем, чтобы собиралась нужная нам ссылка\n",
    "    url = base_url + urlencode((dict(public_key=public_key)))\n",
    "    # 3. Тут не особо знаком с процессом, подсмотрел на ru.stackoverflow\n",
    "    response = requests.get(url)\n",
    "    data_url = response.json()['href']\n",
    "    # 4. Создадим датафрейм с информацией из дополнительного файла по ссылке\n",
    "    tab_groups_add = pd.read_csv(data_url, sep=';')\n",
    "    \n",
    "  \n",
    "    # 5. Загрузим имеющиеся датафреймы\n",
    "    # 5.1 Загрузим данные с информацией о принадлежности пользователя к контрольной или экспериментальной группе (А – контроль, B – целевая группа)\n",
    "    tab_groups = pd.read_csv('/mnt/HC_Volume_18315164/home-jupyter/jupyter-a-ilenkov/Финальный проект/2_Вариант/Проект_2_groups.csv', sep=\";\")\n",
    "    # 5.2 Загрузим  данные с информацией о пользователях, которые зашли на платформу в дни проведения эксперимента.\n",
    "    tab_active_studs = pd.read_csv('/mnt/HC_Volume_18315164/home-jupyter/jupyter-a-ilenkov/Финальный проект/2_Вариант/Проект_2_active_studs.csv')\n",
    "    # 5.2.1 Переименуем колонку с student_id на id\n",
    "    tab_active_studs = tab_active_studs.rename(columns={'student_id':'id'})\n",
    "    # 5.3 Загрузим данные с информацией об оплатах пользователей в дни проведения эксперимента.\n",
    "    tab_checks = pd.read_csv('/mnt/HC_Volume_18315164/home-jupyter/jupyter-a-ilenkov/Финальный проект/2_Вариант/Проект_2_checks.csv', sep=\";\")\n",
    "    # 5.3.1 Переименуем колонку с student_id на id\n",
    "    tab_checks = tab_checks.rename(columns={'student_id':'id'})\n",
    "    \n",
    "    #tab_groups_add = pd.read_csv('/mnt/HC_Volume_18315164/home-jupyter/jupyter-a-ilenkov/Финальный проект/2_Вариант/Проект_2_group_add.csv', sep=\",\")\n",
    "\n",
    "    # 6 Преоставим список строк для атрибутов столбца и присвом колонкам имена аналогичные в tab_groups\n",
    "    # tab_groups_add.columns = ['id', 'grp']\n",
    "    \n",
    "    # 7 Удалим из tab_checks выбросы \n",
    "    # 7.1 Найдем пороговое значение 25% квантиля\n",
    "    q1 = tab_checks.quantile(q=.25)\n",
    "    # 7.2 Найдем пороговое значение 75% квантиля\n",
    "    q3 = tab_checks.quantile(q=.75)\n",
    "    # 7.2 Найдем межквартильный размах\n",
    "    iqr = tab_checks.apply(stats.iqr)\n",
    "    # 7.3 Перезапишем датафрейм, но уже без выбросов\n",
    "    tab_checks = tab_checks[~((tab_checks < (q1-1.5*iqr)) | (tab_checks > (q3+1.5*iqr))).any(axis=1)]\n",
    "    # 8 Соеденим два фрейма (с существующими данными - tab_groups и с добавленными - tab_groups_add)\n",
    "    tab_group_all = pd.concat([tab_groups,tab_groups_add]).drop_duplicates().reset_index(drop=True)\n",
    "    # 9 Соединим получившийся в п.8 датафрейм с tab_active_studs\n",
    "    tab_active_all = tab_active_studs.merge(tab_group_all, how='left', on='id')\n",
    "    # 10 Соединим получившийся в п.9 датафрейм с tab_checks - добавим информацию о платежах\n",
    "    tab_active_all = tab_active_all.merge(tab_checks, how='left', on='id')\n",
    "    # 11 Заменим значения с Nan На ноль\n",
    "    tab_active_all = tab_active_all.fillna(0)\n",
    "    # 12 Присвоим каждому id статус. Если не купил ничего - статус \"pay_not\", а если купил - статус \"pay_yes\"\n",
    "    tab_active_all['status'] = tab_active_all['rev'].apply(lambda x: 'pay_yes' if x > 0 else 'pay_not' )\n",
    "    # Получился финальный датафрейм, на данных из него рассчитываем метрики\n",
    "    \n",
    "    # 13 Рассчитаем метрики\n",
    "    # 13.1 Рассчитаем ARPU\n",
    "    arpu = tab_active_all.groupby('grp').agg({'rev':'mean'}).rename(columns={'rev':'arpu'}).round(2)\n",
    "    # 13.2 Рассчитаем ARPPU\n",
    "    arppu = tab_active_all.query('status==\"pay_yes\"').groupby('grp').agg({'rev':'mean'}).rename(columns={'rev':'arppu'}).reset_index().round(2)\n",
    "    # 13.3 Рассчитаем CR\n",
    "    quantity_yes = tab_active_all.query('status==\"pay_yes\"').groupby(['grp']).agg({'status': 'count'}).rename(columns={\"status\": \"purchase_yes\"}).reset_index()\n",
    "    quantity_no = tab_active_all.query('status== \"pay_not\"').groupby(['grp']).agg({'status': 'count'}).rename(columns={\"status\": \"purchase_no\"}).reset_index()\n",
    "    values = quantity_no.merge(quantity_yes, how='left', on='grp')\n",
    "    values['cr'] = ((values.purchase_yes  / values.purchase_no) * 100).round(2)\n",
    "    values = values.merge(arpu, how='left', on='grp')\n",
    "    values= values.merge(arppu, how='left', on='grp')\n",
    "\n",
    "    return values\n",
    "    print()\n",
    "    print('Группа А - контрольная группа.') \n",
    "    print('Группа B - экспериментальная группа (тестовая).')\n",
    "    print('Колонка \"purchase_no\" - кол-во неоплат. Колонка \"purchase_yes\" - кол-во оплат.')"
   ]
  },
  {
   "cell_type": "code",
   "execution_count": 4,
   "metadata": {},
   "outputs": [
    {
     "data": {
      "text/html": [
       "<div>\n",
       "<style scoped>\n",
       "    .dataframe tbody tr th:only-of-type {\n",
       "        vertical-align: middle;\n",
       "    }\n",
       "\n",
       "    .dataframe tbody tr th {\n",
       "        vertical-align: top;\n",
       "    }\n",
       "\n",
       "    .dataframe thead th {\n",
       "        text-align: right;\n",
       "    }\n",
       "</style>\n",
       "<table border=\"1\" class=\"dataframe\">\n",
       "  <thead>\n",
       "    <tr style=\"text-align: right;\">\n",
       "      <th></th>\n",
       "      <th>grp</th>\n",
       "      <th>purchase_no</th>\n",
       "      <th>purchase_yes</th>\n",
       "      <th>cr</th>\n",
       "      <th>arpu</th>\n",
       "      <th>arppu</th>\n",
       "    </tr>\n",
       "  </thead>\n",
       "  <tbody>\n",
       "    <tr>\n",
       "      <th>0</th>\n",
       "      <td>0</td>\n",
       "      <td>12</td>\n",
       "      <td>1</td>\n",
       "      <td>8.33</td>\n",
       "      <td>146.15</td>\n",
       "      <td>1900.00</td>\n",
       "    </tr>\n",
       "    <tr>\n",
       "      <th>1</th>\n",
       "      <td>A</td>\n",
       "      <td>1457</td>\n",
       "      <td>78</td>\n",
       "      <td>5.35</td>\n",
       "      <td>47.44</td>\n",
       "      <td>933.59</td>\n",
       "    </tr>\n",
       "    <tr>\n",
       "      <th>2</th>\n",
       "      <td>B</td>\n",
       "      <td>6481</td>\n",
       "      <td>312</td>\n",
       "      <td>4.81</td>\n",
       "      <td>57.18</td>\n",
       "      <td>1244.95</td>\n",
       "    </tr>\n",
       "  </tbody>\n",
       "</table>\n",
       "</div>"
      ],
      "text/plain": [
       "  grp  purchase_no  purchase_yes    cr    arpu    arppu\n",
       "0   0           12             1  8.33  146.15  1900.00\n",
       "1   A         1457            78  5.35   47.44   933.59\n",
       "2   B         6481           312  4.81   57.18  1244.95"
      ]
     },
     "execution_count": 4,
     "metadata": {},
     "output_type": "execute_result"
    }
   ],
   "source": [
    "add_data(public_key)"
   ]
  },
  {
   "cell_type": "code",
   "execution_count": 5,
   "metadata": {},
   "outputs": [],
   "source": [
    "def chart_metrics(values):\n",
    "    # Применим функцию subplot из Matplotlib. Укажем область отрисовки (fig) и кол-во координатных осей (axes - 1,3 в коде)\n",
    "    fig, axes = plt.subplots(1, 3,figsize=(15, 4) )\n",
    "    # Создадим аргумент ax, который будет обращаться к индексу объекта axes - выводим нужный график в указанном порядке\n",
    "    sns.barplot(data = values ,x='cr', y='grp', orient='h',ax=axes[0])\n",
    "    # Присовим название каждому графику\n",
    "    axes[0].set_title(\"СR\")\n",
    "\n",
    "    sns.barplot(data = values ,x='arpu', y='grp', orient='h', ax=axes[1])\n",
    "    axes[1].set_title(\"ARPU\")\n",
    "\n",
    "    sns.barplot(data = values ,x='arppu', y='grp', orient='h', ax=axes[2])\n",
    "    axes[2].set_title(\"ARPPU\")"
   ]
  },
  {
   "cell_type": "code",
   "execution_count": 6,
   "metadata": {},
   "outputs": [
    {
     "data": {
      "image/png": "[encoded data removed]",
      "text/plain": [
       "<Figure size 1080x288 with 3 Axes>"
      ]
     },
     "metadata": {
      "needs_background": "light"
     },
     "output_type": "display_data"
    }
   ],
   "source": [
    "chart_metrics(add_data(public_key))"
   ]
  },
  {
   "cell_type": "code",
   "execution_count": null,
   "metadata": {},
   "outputs": [],
   "source": []
  }
 ],
 "metadata": {
  "kernelspec": {
   "display_name": "Python 3",
   "language": "python",
   "name": "python3"
  },
  "language_info": {
   "codemirror_mode": {
    "name": "ipython",
    "version": 3
   },
   "file_extension": ".py",
   "mimetype": "text/x-python",
   "name": "python",
   "nbconvert_exporter": "python",
   "pygments_lexer": "ipython3",
   "version": "3.7.3"
  }
 },
 "nbformat": 4,
 "nbformat_minor": 4
}
